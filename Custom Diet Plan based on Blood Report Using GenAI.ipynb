{
 "cells": [
  {
   "cell_type": "code",
   "execution_count": 2,
   "metadata": {},
   "outputs": [],
   "source": [
    "import os\n",
    "import PyPDF2\n",
    "import fitz \n",
    "import shutil\n",
    "import langchain\n",
    "from openai import OpenAI\n",
    "from langchain.text_splitter import RecursiveCharacterTextSplitter\n",
    "from langchain_community.vectorstores import Chroma\n",
    "from langchain_huggingface import HuggingFaceEmbeddings\n",
    "from sentence_transformers import SentenceTransformer"
   ]
  },
  {
   "cell_type": "code",
   "execution_count": null,
   "metadata": {},
   "outputs": [],
   "source": [
    "file_path = r\"C:/Users/Coustom Diet Plan based on blood report powered by GenAI/Blood Reports/sterling_accuris_pathology.pdf\"\n",
    "with open(file_path, 'rb') as file:\n",
    "    pdf_reader = PyPDF2.PdfReader(file)\n",
    "    extracted_text = \"\"\n",
    "    for page_num in range(len(pdf_reader.pages)):\n",
    "        page = pdf_reader.pages[page_num]\n",
    "        extracted_text += page.extract_text()"
   ]
  },
  {
   "cell_type": "code",
   "execution_count": null,
   "metadata": {},
   "outputs": [],
   "source": [
    "def extract_text_from_pdf(pdf_path):\n",
    "    document = fitz.open(pdf_path)\n",
    "    text = \"\"\n",
    "\n",
    "    for page_num in range(len(document)):\n",
    "        page = document.load_page(page_num)\n",
    "        text += page.get_text()\n",
    "    \n",
    "    return text\n",
    "\n",
    "def extract_text_from_multiple_pdfs(pdf_directory):\n",
    "    extracted_texts1 = []\n",
    "    \n",
    "    for filename in os.listdir(pdf_directory):\n",
    "        if filename.endswith(\".pdf\"):\n",
    "            pdf_path = os.path.join(pdf_directory, filename)\n",
    "            text = extract_text_from_pdf(pdf_path)\n",
    "            extracted_texts1.append(text)\n",
    "    \n",
    "    return extracted_texts1\n",
    "\n",
    "pdf_directory = \"C:/Users/Coustom Diet Plan based on blood report powered by GenAI/Knowledge Base\"\n",
    "extracted_texts1 = extract_text_from_multiple_pdfs(pdf_directory)"
   ]
  },
  {
   "cell_type": "code",
   "execution_count": 5,
   "metadata": {},
   "outputs": [],
   "source": [
    "text_splitter = RecursiveCharacterTextSplitter(chunk_size = 2000, chunk_overlap=110)"
   ]
  },
  {
   "cell_type": "code",
   "execution_count": 6,
   "metadata": {},
   "outputs": [],
   "source": [
    "chunk1=text_splitter.create_documents(extracted_texts1)"
   ]
  },
  {
   "cell_type": "code",
   "execution_count": 7,
   "metadata": {},
   "outputs": [],
   "source": [
    "embeddings = HuggingFaceEmbeddings(model_name=\"all-MiniLM-L6-v2\")"
   ]
  },
  {
   "cell_type": "code",
   "execution_count": 8,
   "metadata": {},
   "outputs": [],
   "source": [
    "db = Chroma.from_documents(chunk1, embeddings)"
   ]
  },
  {
   "cell_type": "code",
   "execution_count": 9,
   "metadata": {},
   "outputs": [],
   "source": [
    "# Retrieve documents from Chroma database\n",
    "query = \"Retrieve all documents\"\n",
    "retrieved_docs = db.similarity_search(query)"
   ]
  },
  {
   "cell_type": "code",
   "execution_count": 10,
   "metadata": {},
   "outputs": [],
   "source": [
    "# Format the retrieved documents into a prompt\n",
    "formatted_docs = \"\\n\\n\".join([doc.page_content for doc in retrieved_docs])"
   ]
  },
  {
   "cell_type": "code",
   "execution_count": 11,
   "metadata": {},
   "outputs": [],
   "source": [
    "# Create the prompt\n",
    "prompt = f'''\n",
    "Role: You are a powerful Diet assistant.\n",
    "Please give a diet plan for the specific blood report. Here is the blood report:\n",
    "\n",
    "{extracted_text}\n",
    "\n",
    "Here are the WHO food recommendations:\n",
    "\n",
    "{formatted_docs}\n",
    "\n",
    "Instructions:\n",
    "1. Diet should be based on the blood report.\n",
    "2. Diet plan should be for 4 weeks.\n",
    "3. Diet plan must follow WHO guidelines.\n",
    "4. Diet plan should be in the form of breakfast, lunch, and dinner.\n",
    "5. Food recommended in the diet plan should be very precise. If a person has low hemoglobin, then you can recommend food like jaggery, spinach, apple, etc., but also consider that you cannot recommend jaggery food to a diabetic person.\n",
    "6. Don't give Important Considerations Before Starting, options, and General Principles in the output. Output should be very specific.\n",
    "7. Don't add any unnecessary information in the output like Important Note, Foods to Emphasize for Iron, Foods to Emphasize for Vitamin D.\n",
    "8. Don't give options in meals. Give direct food recommendations.\n",
    "9. Make two diet plans: one for vegetarians and one for non-vegetarians. In the non-vegetarian diet plan, you can recommend mutton, chicken, fish, etc. Don't recommend beef.\n",
    "10. Don't recommend a glass of water in every meal.\n",
    "11. Food must be easily available in the Indian market.\n",
    "12. Don't recommend any snacks like mid-morning snack, evening snack, etc.\n",
    "13. Don't give any medical terminology in the output like Fasting Sugar, LDL Cholesterol. Just give food recommendations.\n",
    "14. Output must be in this format: 4-week diet plans based on the blood report, one for vegetarians and one for non-vegetarians. The plans will focus on addressing the abnormal findings in the blood report.\n",
    "    I. 4-Week Vegetarian Diet Plan:\n",
    "      a. Week 1\n",
    "         Breakfast:\n",
    "         Lunch:\n",
    "         Dinner:\n",
    "      b. Week 2\n",
    "         Breakfast:\n",
    "         Lunch:\n",
    "         Dinner:\n",
    "      c. Week 3\n",
    "         Breakfast:\n",
    "         Lunch:\n",
    "         Dinner:\n",
    "      d. Week 4\n",
    "         Breakfast:\n",
    "         Lunch:\n",
    "         Dinner:\n",
    "    II. 4-Week Non-Vegetarian Diet Plan:\n",
    "      a. Week 1\n",
    "         Breakfast:\n",
    "         Lunch:\n",
    "         Dinner:\n",
    "      b. Week 2\n",
    "         Breakfast:\n",
    "         Lunch:\n",
    "         Dinner:\n",
    "      c. Week 3\n",
    "         Breakfast:\n",
    "         Lunch:\n",
    "         Dinner:\n",
    "      d. Week 4\n",
    "         Breakfast:\n",
    "         Lunch:\n",
    "         Dinner:\n",
    "15. Don't add * and ** in the output.\n",
    "16. Don't recommend any supplements in the diet plan like protein powder. Only give food recommendations.\n",
    "17. Don't recommend any leftover food in the diet plan.\n",
    "18. Don't recommend any food that is not easily available in the Indian market.\n",
    "19. Don't give the same diet plan for every report. Analyze the report and give a diet plan according to WHO guidelines.\n",
    "20. If you're recommending vegetable curry/vegetable biryani/vegetable salad, then also recommend the vegetable name.\n",
    "21. According to the date of the blood report, give recommendations of seasonal fruits and vegetables.\n",
    "22. Limit the portion size of the food. Excess of food can cause other health issues.\n",
    "23. Don't recommend any food that is not easily digestible.\n",
    "'''"
   ]
  },
  {
   "cell_type": "code",
   "execution_count": null,
   "metadata": {},
   "outputs": [
    {
     "name": "stdout",
     "output_type": "stream",
     "text": [
      "Based on the provided blood report, here are the 4-week diet plans for a 41-year-old male.\n",
      "\n",
      "I. 4-Week Vegetarian Diet Plan:\n",
      "\n",
      "a. Week 1\n",
      "   Breakfast: Oatmeal with banana, almond milk, and walnuts\n",
      "   Lunch: Brown rice, mixed vegetable curry (carrot, peas, cauliflower), and a side of raita (curd, cucumber, cumin powder)\n",
      "   Dinner: Whole wheat roti, spinach curry, and mixed vegetable salad (cucumber, tomato, onion)\n",
      "\n",
      "b. Week 2\n",
      "   Breakfast: Whole wheat toast with avocado spread and a glass of orange juice\n",
      "   Lunch: Quinoa and black bean salad (cooked quinoa, black beans, cucumber, tomato, onion) with a lemon-tahini dressing\n",
      "   Dinner: Mixed vegetable biryani (brown rice, cauliflower, peas, carrot), and a side of cucumber raita\n",
      "\n",
      "c. Week 3\n",
      "   Breakfast: Greek yogurt with mixed berries and granola\n",
      "   Lunch: Whole wheat roti, chana masala, and a side of mixed vegetable salad\n",
      "   Dinner: Grilled portobello mushrooms, roasted vegetable curry (Brinjal, bell peppers, cauliflower), and brown rice\n",
      "\n",
      "d. Week 4\n",
      "   Breakfast: Smoothie bowl with spinach, banana, almond milk, and chia seeds topped with almonds and shredded coconut\n",
      "   Lunch: Whole wheat pasta with marinara sauce, sautéed vegetables (bell peppers, onion, mushrooms), and a side of garlic bread\n",
      "   Dinner: Stuffed bell peppers (quinoa, black beans, vegetables), and a side of mixed green salad\n",
      "\n",
      "II. 4-Week Non-Vegetarian Diet Plan:\n",
      "\n",
      "a. Week 1\n",
      "   Breakfast: Scrambled eggs with whole wheat toast and a glass of orange juice\n",
      "   Lunch: Grilled chicken breast, brown rice, and mixed vegetable curry (carrot, peas, cauliflower)\n",
      "   Dinner: Baked fish (surmai or tilapia), roasted vegetable salad (Brinjal, bell peppers, cauliflower), and quinoa\n",
      "\n",
      "b. Week 2\n",
      "   Breakfast: Omelette with vegetables (onion, bell peppers, mushrooms), and whole wheat toast\n",
      "   Lunch: Grilled chicken breast, mixed vegetable salad (cucumber, tomato, onion), and brown rice\n",
      "   Dinner: Chicken tikka masala, brown rice, and a side of raita\n",
      "\n",
      "c. Week 3\n",
      "   Breakfast: Greek yogurt with mixed berries and granola\n",
      "   Lunch: Grilled fish (surmai or tilapia), mixed vegetable curry (cauliflower, peas, carrot), and brown rice\n",
      "   Dinner: Chicken and vegetable stir-fry (chicken breast, bell peppers, onion, broccoli), and brown rice\n",
      "\n",
      "d. Week 4\n",
      "   Breakfast: Breakfast burrito with scrambled eggs, black beans, and avocado, wrapped in a whole wheat tortilla\n",
      "   Lunch: Grilled chicken breast, quinoa and black bean salad, and a side of mixed green salad\n",
      "   Dinner: Baked chicken breast, roasted sweet potato, and steamed broccoli\n",
      "\n",
      "The diet plans are designed to address the abnormal findings in the blood report, such as high homocysteine levels, low vitamin B12, and slightly high HbA1c. The plans include a variety of fruits and vegetables, whole grains, lean protein sources, and healthy fats. The portion sizes are limited to prevent excessive calorie intake. The food recommendations are based on WHO guidelines and are easily available in the Indian market.\n"
     ]
    }
   ],
   "source": [
    "client = OpenAI(\n",
    "  base_url=\"https://openrouter.ai/api/v1\",\n",
    "  api_key=\"OpenRouter API Key\",\n",
    ")\n",
    "\n",
    "completion = client.chat.completions.create(\n",
    "  model=\"meta-llama/llama-4-maverick:free\",\n",
    "  #model=\"mistralai/mistral-7b-instruct:free\",\n",
    "  #model=\"google/gemini-2.0-flash-exp:free\",\n",
    "  \n",
    "  messages=[\n",
    "    {\n",
    "      \"role\": \"user\",\n",
    "      \"content\": prompt\n",
    "    }\n",
    "  ],\n",
    "  temperature=0,\n",
    "  max_tokens=1000\n",
    ")\n",
    "print(completion.choices[0].message.content)"
   ]
  }
 ],
 "metadata": {
  "kernelspec": {
   "display_name": ".venv",
   "language": "python",
   "name": "python3"
  },
  "language_info": {
   "codemirror_mode": {
    "name": "ipython",
    "version": 3
   },
   "file_extension": ".py",
   "mimetype": "text/x-python",
   "name": "python",
   "nbconvert_exporter": "python",
   "pygments_lexer": "ipython3",
   "version": "3.11.9"
  }
 },
 "nbformat": 4,
 "nbformat_minor": 2
}
